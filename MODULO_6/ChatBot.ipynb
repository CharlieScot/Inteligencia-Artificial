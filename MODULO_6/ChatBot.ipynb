{
  "nbformat": 4,
  "nbformat_minor": 0,
  "metadata": {
    "colab": {
      "provenance": [],
      "gpuType": "T4"
    },
    "kernelspec": {
      "name": "python3",
      "display_name": "Python 3"
    },
    "language_info": {
      "name": "python"
    },
    "accelerator": "GPU"
  },
  "cells": [
    {
      "cell_type": "markdown",
      "source": [
        "# ¿Qué es Hugging Face?\n",
        "Podemos definir qué es Hugging Face como una empresa de tecnología que se dedica al desarrollo de herramientas y plataformas de procesamiento de lenguaje natural o NLP basadas en inteligencia artificial. Su enfoque se centra en crear modelos de aprendizaje profundo de última generación para tareas como la comprensión del lenguaje natural, la generación de lenguaje natural, el análisis de sentimientos o la traducción automática, entre otras.\n",
        "\n",
        "Además, hugging-face ha creado una plataforma de código abierto llamada Transformers, la cual le permite a los desarrolladores de todo el mundo acceder y utilizar modelos de NLP preentrenados de última generación. Esta plataforma hugface se ha convertido en una herramienta fundamental para el desarrollo de aplicaciones basadas en NLP y ha sido adoptada por una amplia comunidad de desarrolladores y empresas.\n",
        "\n",
        "En resumen, al hablar sobre qué es Hugging Face hay que destacar que se trata de una empresa que está liderando la revolución de la inteligencia artificial en el procesamiento del lenguaje natural. Asimismo, está haciendo que sea más accesible y fácil para los desarrolladores y empresas de todo el mundo aprovechar las últimas tecnologías de NLP."
      ],
      "metadata": {
        "id": "Xu8qTv4ZW-5H"
      }
    },
    {
      "cell_type": "markdown",
      "source": [
        "# Asistente Financiero y más\n",
        "Este es un chatbot que esta usando un modelo open source. Es crucial tener en cuenta que HugChat es una API no oficial de Hugging Chat. En este caso, utilizamos la API de HugChat con una distinción sutil: la configuramos para que el bot actúe como un asistente financiero. Logramos esto asignando previamente ese rol específico al bot."
      ],
      "metadata": {
        "id": "KqQyGOcmViSy"
      }
    },
    {
      "cell_type": "markdown",
      "source": [
        "# función query()\n",
        "La función `query()` de la API de Hugging Chat se utiliza para enviar una solicitud a la API y recibir una respuesta del modelo de lenguaje. Esta función recibe los siguientes parámetros:\n",
        "\n",
        "- `text`: Requerido [str]. El texto de entrada que se enviará al modelo de lenguaje.\n",
        "- `retry_count`: Opcional [int]. El número de veces que se volverá a intentar la solicitud si falla. El valor predeterminado es 5.\n",
        "- `temperature`: Opcional [float]. Un valor que se utiliza para ajustar la creatividad del modelo de lenguaje. Un valor más alto de temperatura dará como resultado respuestas más creativas, mientras que un valor más bajo dará como resultado respuestas más conservadoras.\n",
        "- `max_token`: Opcional [int]. El número máximo de tokens que se generarán en la respuesta. Si no se especifica, se utilizará el valor predeterminado del modelo.\n",
        "- `top_p`: Opcional [float]. Un valor que se utiliza para ajustar la creatividad del modelo de lenguaje. Un valor más alto de top_p dará como resultado respuestas más creativas, mientras que un valor más bajo dará como resultado respuestas más conservadoras.\n",
        "- `frequency_penalty`: Opcional [float]. Un valor que se utiliza para penalizar las palabras que aparecen con frecuencia en la respuesta. Un valor más alto de frequency_penalty dará como resultado respuestas más variadas, mientras que un valor más bajo dará como resultado respuestas más repetitivas.\n",
        "- `presence_penalty`: Opcional [float]. Un valor que se utiliza para penalizar las palabras que aparecen en la entrada. Un valor más alto de presence_penalty dará como resultado respuestas que se centran menos en la entrada, mientras que un valor más bajo dará como resultado respuestas que se centran más en la entrada.\n",
        "- `web_search`: Opcional [bool]. Un valor booleano que indica si se debe realizar una búsqueda en línea para mejorar la respuesta. El valor predeterminado es False."
      ],
      "metadata": {
        "id": "UzPy15rYLmnT"
      }
    },
    {
      "cell_type": "markdown",
      "source": [
        "# Autenticamos con HF crea tu cuenta aquí: https://huggingface.co/"
      ],
      "metadata": {
        "id": "uPfI1QIsV5A0"
      }
    },
    {
      "cell_type": "code",
      "execution_count": null,
      "metadata": {
        "id": "YQQflERA8fzs"
      },
      "outputs": [],
      "source": [
        "!pip install hugchat"
      ]
    },
    {
      "cell_type": "code",
      "source": [
        "from hugchat import hugchat\n",
        "from hugchat.login import Login\n",
        "\n",
        "# Definir constantes\n",
        "GOODBYE_MESSAGES = ['salir', 'adios', 'adiós', 'bay', 'chao', 'hasta luego']\n",
        "\n",
        "# Ingresar las credenciales de inicio de sesión en huggingface\n",
        "email = 'squicano8@gmail.com'\n",
        "password = '(/2teCL#H6#p-CV'\n",
        "\n",
        "# Crear una instancia de la clase Login con las credenciales\n",
        "sign = Login(email, password)\n",
        "\n",
        "# Iniciar sesión y obtener las cookies\n",
        "cookies = sign.login()\n",
        "\n",
        "# Guardar las cookies en el directorio local\n",
        "cookie_path_dir = \"./cookies_snapshot\"\n",
        "sign.saveCookiesToDir(cookie_path_dir)\n",
        "\n",
        "# Definir la función para iniciar una conversación con el usuario\n",
        "def start_conversation():\n",
        "    #Inicia una conversación con el chatbot.\n",
        "\n",
        "    # Crear una instancia de ChatBot con las cookies de autenticación\n",
        "    chatbot = hugchat.ChatBot(cookies=cookies.get_dict())\n",
        "\n",
        "    # Obtener el ID de la conversación actual\n",
        "    conversation_id = chatbot.new_conversation()\n",
        "\n",
        "    # Saludo inicial del chatbot\n",
        "    response_1 = chatbot.query('Eres un Asistente Financiero Personal no lo olvides, recuerda iniciar con un saludo y siempre hablar español')\n",
        "    # Imprimir la respuesta del chatbot\n",
        "    print(\"ChatBot:\", response_1)\n",
        "\n",
        "    # Iniciar un bucle de conversación\n",
        "    while True:\n",
        "        # Leer el mensaje del usuario desde la entrada estándar\n",
        "        user_message = input(\"Usuario: \")\n",
        "\n",
        "        # Salida del bucle\n",
        "        if user_message.lower() in GOODBYE_MESSAGES:\n",
        "            print(\"ChatBot: Hasta luego.\")\n",
        "            break\n",
        "\n",
        "        # Cambiar a la conversación actual\n",
        "        chatbot.change_conversation(conversation_id)\n",
        "\n",
        "        # Obtener la respuesta del chatbot\n",
        "        response_2 = chatbot.query(user_message)\n",
        "\n",
        "        # Imprimir la respuesta del chatbot\n",
        "        print(\"ChatBot:\", response_2)\n",
        "\n",
        "# Llamar a la función para iniciar la conversación\n",
        "start_conversation()"
      ],
      "metadata": {
        "id": "Z2veb7Zbb7qP"
      },
      "execution_count": null,
      "outputs": []
    }
  ]
}
